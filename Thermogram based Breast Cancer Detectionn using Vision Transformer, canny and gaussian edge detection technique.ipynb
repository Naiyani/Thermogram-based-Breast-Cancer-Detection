{
 "cells": [
  {
   "cell_type": "code",
   "execution_count": 1,
   "metadata": {
    "_cell_guid": "b1076dfc-b9ad-4769-8c92-a6c4dae69d19",
    "_uuid": "8f2839f25d086af736a60e9eeb907d3b93b6e0e5",
    "execution": {
     "iopub.execute_input": "2023-06-15T11:44:38.421108Z",
     "iopub.status.busy": "2023-06-15T11:44:38.419945Z",
     "iopub.status.idle": "2023-06-15T11:44:51.662838Z",
     "shell.execute_reply": "2023-06-15T11:44:51.661373Z",
     "shell.execute_reply.started": "2023-06-15T11:44:38.421065Z"
    },
    "scrolled": true
   },
   "outputs": [
    {
     "name": "stdout",
     "output_type": "stream",
     "text": [
      "Requirement already satisfied: numpy in c:\\users\\pn\\appdata\\local\\programs\\python\\python311\\lib\\site-packages (1.26.3)\n",
      "Note: you may need to restart the kernel to use updated packages.\n"
     ]
    },
    {
     "name": "stderr",
     "output_type": "stream",
     "text": [
      "\n",
      "[notice] A new release of pip available: 22.3.1 -> 23.3.2\n",
      "[notice] To update, run: python.exe -m pip install --upgrade pip\n"
     ]
    }
   ],
   "source": [
    "pip install --upgrade numpy"
   ]
  },
  {
   "cell_type": "code",
   "execution_count": 2,
   "metadata": {
    "scrolled": true
   },
   "outputs": [
    {
     "name": "stdout",
     "output_type": "stream",
     "text": [
      "Requirement already satisfied: xgboost in c:\\users\\pn\\appdata\\local\\programs\\python\\python311\\lib\\site-packages (2.0.3)Note: you may need to restart the kernel to use updated packages.\n"
     ]
    },
    {
     "name": "stderr",
     "output_type": "stream",
     "text": [
      "\n",
      "[notice] A new release of pip available: 22.3.1 -> 23.3.2\n",
      "[notice] To update, run: python.exe -m pip install --upgrade pip\n"
     ]
    },
    {
     "name": "stdout",
     "output_type": "stream",
     "text": [
      "\n",
      "Requirement already satisfied: numpy in c:\\users\\pn\\appdata\\local\\programs\\python\\python311\\lib\\site-packages (from xgboost) (1.26.3)\n",
      "Requirement already satisfied: scipy in c:\\users\\pn\\appdata\\local\\programs\\python\\python311\\lib\\site-packages (from xgboost) (1.11.1)\n"
     ]
    }
   ],
   "source": [
    "pip install xgboost\n"
   ]
  },
  {
   "cell_type": "code",
   "execution_count": 3,
   "metadata": {},
   "outputs": [
    {
     "name": "stdout",
     "output_type": "stream",
     "text": [
      "Requirement already satisfied: tensorflow in c:\\users\\pn\\appdata\\local\\programs\\python\\python311\\lib\\site-packages (2.15.0)\n",
      "Requirement already satisfied: tensorflow-intel==2.15.0 in c:\\users\\pn\\appdata\\local\\programs\\python\\python311\\lib\\site-packages (from tensorflow) (2.15.0)\n",
      "Requirement already satisfied: absl-py>=1.0.0 in c:\\users\\pn\\appdata\\local\\programs\\python\\python311\\lib\\site-packages (from tensorflow-intel==2.15.0->tensorflow) (2.1.0)\n",
      "Requirement already satisfied: astunparse>=1.6.0 in c:\\users\\pn\\appdata\\local\\programs\\python\\python311\\lib\\site-packages (from tensorflow-intel==2.15.0->tensorflow) (1.6.3)\n",
      "Requirement already satisfied: flatbuffers>=23.5.26 in c:\\users\\pn\\appdata\\local\\programs\\python\\python311\\lib\\site-packages (from tensorflow-intel==2.15.0->tensorflow) (23.5.26)\n",
      "Requirement already satisfied: gast!=0.5.0,!=0.5.1,!=0.5.2,>=0.2.1 in c:\\users\\pn\\appdata\\local\\programs\\python\\python311\\lib\\site-packages (from tensorflow-intel==2.15.0->tensorflow) (0.5.4)\n",
      "Requirement already satisfied: google-pasta>=0.1.1 in c:\\users\\pn\\appdata\\local\\programs\\python\\python311\\lib\\site-packages (from tensorflow-intel==2.15.0->tensorflow) (0.2.0)\n",
      "Requirement already satisfied: h5py>=2.9.0 in c:\\users\\pn\\appdata\\local\\programs\\python\\python311\\lib\\site-packages (from tensorflow-intel==2.15.0->tensorflow) (3.10.0)\n",
      "Requirement already satisfied: libclang>=13.0.0 in c:\\users\\pn\\appdata\\local\\programs\\python\\python311\\lib\\site-packages (from tensorflow-intel==2.15.0->tensorflow) (16.0.6)\n",
      "Requirement already satisfied: ml-dtypes~=0.2.0 in c:\\users\\pn\\appdata\\local\\programs\\python\\python311\\lib\\site-packages (from tensorflow-intel==2.15.0->tensorflow) (0.2.0)\n",
      "Requirement already satisfied: numpy<2.0.0,>=1.23.5 in c:\\users\\pn\\appdata\\local\\programs\\python\\python311\\lib\\site-packages (from tensorflow-intel==2.15.0->tensorflow) (1.26.3)\n",
      "Requirement already satisfied: opt-einsum>=2.3.2 in c:\\users\\pn\\appdata\\local\\programs\\python\\python311\\lib\\site-packages (from tensorflow-intel==2.15.0->tensorflow) (3.3.0)\n",
      "Requirement already satisfied: packaging in c:\\users\\pn\\appdata\\local\\programs\\python\\python311\\lib\\site-packages (from tensorflow-intel==2.15.0->tensorflow) (23.1)\n",
      "Requirement already satisfied: protobuf!=4.21.0,!=4.21.1,!=4.21.2,!=4.21.3,!=4.21.4,!=4.21.5,<5.0.0dev,>=3.20.3 in c:\\users\\pn\\appdata\\local\\programs\\python\\python311\\lib\\site-packages (from tensorflow-intel==2.15.0->tensorflow) (4.23.4)\n",
      "Requirement already satisfied: setuptools in c:\\users\\pn\\appdata\\local\\programs\\python\\python311\\lib\\site-packages (from tensorflow-intel==2.15.0->tensorflow) (65.5.0)\n",
      "Requirement already satisfied: six>=1.12.0 in c:\\users\\pn\\appdata\\local\\programs\\python\\python311\\lib\\site-packages (from tensorflow-intel==2.15.0->tensorflow) (1.16.0)\n",
      "Requirement already satisfied: termcolor>=1.1.0 in c:\\users\\pn\\appdata\\local\\programs\\python\\python311\\lib\\site-packages (from tensorflow-intel==2.15.0->tensorflow) (2.4.0)\n",
      "Requirement already satisfied: typing-extensions>=3.6.6 in c:\\users\\pn\\appdata\\local\\programs\\python\\python311\\lib\\site-packages (from tensorflow-intel==2.15.0->tensorflow) (4.9.0)\n",
      "Requirement already satisfied: wrapt<1.15,>=1.11.0 in c:\\users\\pn\\appdata\\local\\programs\\python\\python311\\lib\\site-packages (from tensorflow-intel==2.15.0->tensorflow) (1.14.1)\n",
      "Requirement already satisfied: tensorflow-io-gcs-filesystem>=0.23.1 in c:\\users\\pn\\appdata\\local\\programs\\python\\python311\\lib\\site-packages (from tensorflow-intel==2.15.0->tensorflow) (0.31.0)\n",
      "Requirement already satisfied: grpcio<2.0,>=1.24.3 in c:\\users\\pn\\appdata\\local\\programs\\python\\python311\\lib\\site-packages (from tensorflow-intel==2.15.0->tensorflow) (1.60.0)\n",
      "Requirement already satisfied: tensorboard<2.16,>=2.15 in c:\\users\\pn\\appdata\\local\\programs\\python\\python311\\lib\\site-packages (from tensorflow-intel==2.15.0->tensorflow) (2.15.1)\n",
      "Requirement already satisfied: tensorflow-estimator<2.16,>=2.15.0 in c:\\users\\pn\\appdata\\local\\programs\\python\\python311\\lib\\site-packages (from tensorflow-intel==2.15.0->tensorflow) (2.15.0)\n",
      "Requirement already satisfied: keras<2.16,>=2.15.0 in c:\\users\\pn\\appdata\\local\\programs\\python\\python311\\lib\\site-packages (from tensorflow-intel==2.15.0->tensorflow) (2.15.0)\n",
      "Requirement already satisfied: wheel<1.0,>=0.23.0 in c:\\users\\pn\\appdata\\local\\programs\\python\\python311\\lib\\site-packages (from astunparse>=1.6.0->tensorflow-intel==2.15.0->tensorflow) (0.42.0)\n",
      "Requirement already satisfied: google-auth<3,>=1.6.3 in c:\\users\\pn\\appdata\\local\\programs\\python\\python311\\lib\\site-packages (from tensorboard<2.16,>=2.15->tensorflow-intel==2.15.0->tensorflow) (2.26.2)\n",
      "Requirement already satisfied: google-auth-oauthlib<2,>=0.5 in c:\\users\\pn\\appdata\\local\\programs\\python\\python311\\lib\\site-packages (from tensorboard<2.16,>=2.15->tensorflow-intel==2.15.0->tensorflow) (1.2.0)\n",
      "Requirement already satisfied: markdown>=2.6.8 in c:\\users\\pn\\appdata\\local\\programs\\python\\python311\\lib\\site-packages (from tensorboard<2.16,>=2.15->tensorflow-intel==2.15.0->tensorflow) (3.5.2)\n",
      "Requirement already satisfied: requests<3,>=2.21.0 in c:\\users\\pn\\appdata\\local\\programs\\python\\python311\\lib\\site-packages (from tensorboard<2.16,>=2.15->tensorflow-intel==2.15.0->tensorflow) (2.31.0)\n",
      "Requirement already satisfied: tensorboard-data-server<0.8.0,>=0.7.0 in c:\\users\\pn\\appdata\\local\\programs\\python\\python311\\lib\\site-packages (from tensorboard<2.16,>=2.15->tensorflow-intel==2.15.0->tensorflow) (0.7.2)\n",
      "Requirement already satisfied: werkzeug>=1.0.1 in c:\\users\\pn\\appdata\\local\\programs\\python\\python311\\lib\\site-packages (from tensorboard<2.16,>=2.15->tensorflow-intel==2.15.0->tensorflow) (3.0.1)\n",
      "Requirement already satisfied: cachetools<6.0,>=2.0.0 in c:\\users\\pn\\appdata\\local\\programs\\python\\python311\\lib\\site-packages (from google-auth<3,>=1.6.3->tensorboard<2.16,>=2.15->tensorflow-intel==2.15.0->tensorflow) (5.3.2)\n",
      "Requirement already satisfied: pyasn1-modules>=0.2.1 in c:\\users\\pn\\appdata\\local\\programs\\python\\python311\\lib\\site-packages (from google-auth<3,>=1.6.3->tensorboard<2.16,>=2.15->tensorflow-intel==2.15.0->tensorflow) (0.3.0)\n",
      "Requirement already satisfied: rsa<5,>=3.1.4 in c:\\users\\pn\\appdata\\local\\programs\\python\\python311\\lib\\site-packages (from google-auth<3,>=1.6.3->tensorboard<2.16,>=2.15->tensorflow-intel==2.15.0->tensorflow) (4.9)\n",
      "Requirement already satisfied: requests-oauthlib>=0.7.0 in c:\\users\\pn\\appdata\\local\\programs\\python\\python311\\lib\\site-packages (from google-auth-oauthlib<2,>=0.5->tensorboard<2.16,>=2.15->tensorflow-intel==2.15.0->tensorflow) (1.3.1)\n",
      "Requirement already satisfied: charset-normalizer<4,>=2 in c:\\users\\pn\\appdata\\local\\programs\\python\\python311\\lib\\site-packages (from requests<3,>=2.21.0->tensorboard<2.16,>=2.15->tensorflow-intel==2.15.0->tensorflow) (3.3.2)\n",
      "Requirement already satisfied: idna<4,>=2.5 in c:\\users\\pn\\appdata\\local\\programs\\python\\python311\\lib\\site-packages (from requests<3,>=2.21.0->tensorboard<2.16,>=2.15->tensorflow-intel==2.15.0->tensorflow) (3.4)\n",
      "Requirement already satisfied: urllib3<3,>=1.21.1 in c:\\users\\pn\\appdata\\local\\programs\\python\\python311\\lib\\site-packages (from requests<3,>=2.21.0->tensorboard<2.16,>=2.15->tensorflow-intel==2.15.0->tensorflow) (2.1.0)\n",
      "Requirement already satisfied: certifi>=2017.4.17 in c:\\users\\pn\\appdata\\local\\programs\\python\\python311\\lib\\site-packages (from requests<3,>=2.21.0->tensorboard<2.16,>=2.15->tensorflow-intel==2.15.0->tensorflow) (2023.11.17)\n",
      "Requirement already satisfied: MarkupSafe>=2.1.1 in c:\\users\\pn\\appdata\\local\\programs\\python\\python311\\lib\\site-packages (from werkzeug>=1.0.1->tensorboard<2.16,>=2.15->tensorflow-intel==2.15.0->tensorflow) (2.1.3)\n",
      "Requirement already satisfied: pyasn1<0.6.0,>=0.4.6 in c:\\users\\pn\\appdata\\local\\programs\\python\\python311\\lib\\site-packages (from pyasn1-modules>=0.2.1->google-auth<3,>=1.6.3->tensorboard<2.16,>=2.15->tensorflow-intel==2.15.0->tensorflow) (0.5.1)\n",
      "Requirement already satisfied: oauthlib>=3.0.0 in c:\\users\\pn\\appdata\\local\\programs\\python\\python311\\lib\\site-packages (from requests-oauthlib>=0.7.0->google-auth-oauthlib<2,>=0.5->tensorboard<2.16,>=2.15->tensorflow-intel==2.15.0->tensorflow) (3.2.2)\n",
      "Note: you may need to restart the kernel to use updated packages.\n"
     ]
    },
    {
     "name": "stderr",
     "output_type": "stream",
     "text": [
      "\n",
      "[notice] A new release of pip available: 22.3.1 -> 23.3.2\n",
      "[notice] To update, run: python.exe -m pip install --upgrade pip\n"
     ]
    }
   ],
   "source": [
    "pip install tensorflow\n"
   ]
  },
  {
   "cell_type": "code",
   "execution_count": 4,
   "metadata": {},
   "outputs": [
    {
     "name": "stdout",
     "output_type": "stream",
     "text": [
      "Requirement already satisfied: opencv-python in c:\\users\\pn\\appdata\\local\\programs\\python\\python311\\lib\\site-packages (4.9.0.80)\n",
      "Requirement already satisfied: numpy>=1.21.2 in c:\\users\\pn\\appdata\\local\\programs\\python\\python311\\lib\\site-packages (from opencv-python) (1.26.3)\n"
     ]
    },
    {
     "name": "stderr",
     "output_type": "stream",
     "text": [
      "\n",
      "[notice] A new release of pip available: 22.3.1 -> 23.3.2\n",
      "[notice] To update, run: python.exe -m pip install --upgrade pip\n"
     ]
    },
    {
     "name": "stdout",
     "output_type": "stream",
     "text": [
      "Requirement already satisfied: scikit-image in c:\\users\\pn\\appdata\\local\\programs\\python\\python311\\lib\\site-packages (0.22.0)\n",
      "Requirement already satisfied: numpy>=1.22 in c:\\users\\pn\\appdata\\local\\programs\\python\\python311\\lib\\site-packages (from scikit-image) (1.26.3)\n",
      "Requirement already satisfied: scipy>=1.8 in c:\\users\\pn\\appdata\\local\\programs\\python\\python311\\lib\\site-packages (from scikit-image) (1.11.1)\n",
      "Requirement already satisfied: networkx>=2.8 in c:\\users\\pn\\appdata\\local\\programs\\python\\python311\\lib\\site-packages (from scikit-image) (3.2.1)\n",
      "Requirement already satisfied: pillow>=9.0.1 in c:\\users\\pn\\appdata\\local\\programs\\python\\python311\\lib\\site-packages (from scikit-image) (10.2.0)\n",
      "Requirement already satisfied: imageio>=2.27 in c:\\users\\pn\\appdata\\local\\programs\\python\\python311\\lib\\site-packages (from scikit-image) (2.33.1)\n",
      "Requirement already satisfied: tifffile>=2022.8.12 in c:\\users\\pn\\appdata\\local\\programs\\python\\python311\\lib\\site-packages (from scikit-image) (2023.12.9)\n",
      "Requirement already satisfied: packaging>=21 in c:\\users\\pn\\appdata\\local\\programs\\python\\python311\\lib\\site-packages (from scikit-image) (23.1)\n",
      "Requirement already satisfied: lazy_loader>=0.3 in c:\\users\\pn\\appdata\\local\\programs\\python\\python311\\lib\\site-packages (from scikit-image) (0.3)\n"
     ]
    },
    {
     "name": "stderr",
     "output_type": "stream",
     "text": [
      "\n",
      "[notice] A new release of pip available: 22.3.1 -> 23.3.2\n",
      "[notice] To update, run: python.exe -m pip install --upgrade pip\n",
      "\n",
      "[notice] A new release of pip available: 22.3.1 -> 23.3.2\n",
      "[notice] To update, run: python.exe -m pip install --upgrade pip\n"
     ]
    },
    {
     "name": "stdout",
     "output_type": "stream",
     "text": [
      "Requirement already satisfied: matplotlib in c:\\users\\pn\\appdata\\local\\programs\\python\\python311\\lib\\site-packages (3.8.2)\n",
      "Requirement already satisfied: contourpy>=1.0.1 in c:\\users\\pn\\appdata\\local\\programs\\python\\python311\\lib\\site-packages (from matplotlib) (1.2.0)\n",
      "Requirement already satisfied: cycler>=0.10 in c:\\users\\pn\\appdata\\local\\programs\\python\\python311\\lib\\site-packages (from matplotlib) (0.12.1)\n",
      "Requirement already satisfied: fonttools>=4.22.0 in c:\\users\\pn\\appdata\\local\\programs\\python\\python311\\lib\\site-packages (from matplotlib) (4.47.2)\n",
      "Requirement already satisfied: kiwisolver>=1.3.1 in c:\\users\\pn\\appdata\\local\\programs\\python\\python311\\lib\\site-packages (from matplotlib) (1.4.5)\n",
      "Requirement already satisfied: numpy<2,>=1.21 in c:\\users\\pn\\appdata\\local\\programs\\python\\python311\\lib\\site-packages (from matplotlib) (1.26.3)\n",
      "Requirement already satisfied: packaging>=20.0 in c:\\users\\pn\\appdata\\local\\programs\\python\\python311\\lib\\site-packages (from matplotlib) (23.1)\n",
      "Requirement already satisfied: pillow>=8 in c:\\users\\pn\\appdata\\local\\programs\\python\\python311\\lib\\site-packages (from matplotlib) (10.2.0)\n",
      "Requirement already satisfied: pyparsing>=2.3.1 in c:\\users\\pn\\appdata\\local\\programs\\python\\python311\\lib\\site-packages (from matplotlib) (3.1.1)\n",
      "Requirement already satisfied: python-dateutil>=2.7 in c:\\users\\pn\\appdata\\local\\programs\\python\\python311\\lib\\site-packages (from matplotlib) (2.8.2)\n",
      "Requirement already satisfied: six>=1.5 in c:\\users\\pn\\appdata\\local\\programs\\python\\python311\\lib\\site-packages (from python-dateutil>=2.7->matplotlib) (1.16.0)\n",
      "WARNING:tensorflow:From c:\\Users\\PN\\AppData\\Local\\Programs\\Python\\Python311\\Lib\\site-packages\\keras\\src\\losses.py:2976: The name tf.losses.sparse_softmax_cross_entropy is deprecated. Please use tf.compat.v1.losses.sparse_softmax_cross_entropy instead.\n",
      "\n"
     ]
    },
    {
     "name": "stderr",
     "output_type": "stream",
     "text": [
      "\n",
      "[notice] A new release of pip available: 22.3.1 -> 23.3.2\n",
      "[notice] To update, run: python.exe -m pip install --upgrade pip\n"
     ]
    },
    {
     "name": "stdout",
     "output_type": "stream",
     "text": [
      "Requirement already satisfied: GaussianFilter in c:\\users\\pn\\appdata\\local\\programs\\python\\python311\\lib\\site-packages (0.0.4)\n"
     ]
    }
   ],
   "source": [
    "# !wget http://visual.ic.uff.br/proeng/thiagoelias/database.rar\n",
    "!pip install opencv-python\n",
    "!pip install scikit-image\n",
    "!pip install matplotlib\n",
    "\n",
    "import os,glob\n",
    "import numpy as np\n",
    "import cv2\n",
    "import glob\n",
    "import pickle\n",
    "import tensorflow as tf\n",
    "import argparse\n",
    "import re\n",
    "import datetime\n",
    "from skimage.transform import rescale, resize, downscale_local_mean\n",
    "from tensorflow.keras.layers import  Input,Conv2D,BatchNormalization,Activation,Subtract,LeakyReLU,Add,Average,Lambda,MaxPool2D,Dropout,UpSampling2D,Concatenate,Multiply,GlobalAveragePooling2D,Dense,ZeroPadding2D,AveragePooling2D\n",
    "from tensorflow.keras.layers import concatenate,Flatten,ConvLSTM2D,MaxPooling2D,ReLU,Conv2DTranspose\n",
    "from tensorflow.keras.models import Model, load_model\n",
    "from tensorflow.keras.callbacks import CSVLogger, ModelCheckpoint, LearningRateScheduler\n",
    "from tensorflow.keras.optimizers import Adam\n",
    "import tensorflow.keras.backend as K\n",
    "from sklearn.svm import LinearSVC\n",
    "!pip install GaussianFilter\n",
    "import matplotlib.pyplot as plt\n",
    "from numpy import loadtxt\n",
    "from xgboost import XGBClassifier\n",
    "from sklearn.model_selection import train_test_split\n",
    "from sklearn.metrics import accuracy_score\n",
    "from GaussianFilter import feature as Feature\n",
    "from skimage.feature import hog,local_binary_pattern\n",
    "from skimage import data, exposure\n",
    "from skimage.transform import radon, rescale\n",
    "from skimage.filters import roberts, sobel, scharr, prewitt\n",
    "from skimage import feature\n",
    "\n",
    "# !pip install rarfile"
   ]
  },
  {
   "cell_type": "code",
   "execution_count": 5,
   "metadata": {
    "execution": {
     "iopub.execute_input": "2023-06-15T11:45:25.607170Z",
     "iopub.status.busy": "2023-06-15T11:45:25.606721Z",
     "iopub.status.idle": "2023-06-15T11:45:25.681795Z",
     "shell.execute_reply": "2023-06-15T11:45:25.680962Z",
     "shell.execute_reply.started": "2023-06-15T11:45:25.607138Z"
    }
   },
   "outputs": [
    {
     "name": "stdout",
     "output_type": "stream",
     "text": [
      "-------------------------------\n",
      "561\n",
      "-------------------------------\n",
      "302\n"
     ]
    }
   ],
   "source": [
    "string = [138,179,180,181,192,198,202,204,209,210,213,240,241,245,249,250,251,255,257,259,261,263,264,270,400,450,500,550,600,650,700]\n",
    "affected_files_train = []\n",
    "for f in string:\n",
    "    list1 = []\n",
    "    normal_dir = \"C:/Users/PN/Desktop/Naiyani_BreastCanserProj/dataset_code01/dataset_code/dataset/train/sick/{}/Segmentadas\".format(f)\n",
    "    normal_dir_text = \"C:/Users/PN/Desktop/Naiyani_BreastCanserProj/dataset_code01/dataset_code/dataset/train/sick/{}/Matrizes\".format(f)\n",
    "    dir1 = os.path.join(normal_dir,\"*.png\")\n",
    "    normal_files = glob.glob(dir1)\n",
    "    dir2 = os.path.join(normal_dir_text,\"*.txt\")\n",
    "    normal_files_text = glob.glob(dir2)\n",
    "\n",
    "    try:\n",
    "        for i in range(len(normal_files)):\n",
    "            list1.append(normal_files[i]+\"|\"+normal_files_text[i])\n",
    "    except:\n",
    "        pass\n",
    "            \n",
    "    affected_files_train.extend(list1)\n",
    "    \n",
    "string2 = [1000,137,166,220,226,42,49,51,55,66,68,750,800,850,900,950]\n",
    "\n",
    "healthy_files_train = []\n",
    "for f in string2:\n",
    "    list2 = []\n",
    "    normal_dir = \"C:/Users/PN/Desktop/Naiyani_BreastCanserProj/dataset_code01/dataset_code/dataset/train/healthy/{}/Segmentadas\".format(f)\n",
    "    normal_dir_text = \"C:/Users/PN/Desktop/Naiyani_BreastCanserProj/dataset_code01/dataset_code/dataset/train/healthy/{}/Matrizes\".format(f)\n",
    "    dir1 = os.path.join(normal_dir,\"*.png\")\n",
    "    normal_files = glob.glob(dir1)\n",
    "    dir2 = os.path.join(normal_dir_text,\"*.txt\")\n",
    "    normal_files_text = glob.glob(dir2)\n",
    " \n",
    "    try:\n",
    "        for i in range(len(normal_files)):\n",
    "            list2.append(normal_files[i]+\"|\"+normal_files_text[i])\n",
    "    except: \n",
    "        pass\n",
    "    healthy_files_train.extend(list2)\n",
    "print(\"-------------------------------\")    \n",
    "print(len(affected_files_train))\n",
    "print(\"-------------------------------\")  \n",
    "print(len(healthy_files_train))"
   ]
  },
  {
   "cell_type": "code",
   "execution_count": 6,
   "metadata": {
    "execution": {
     "iopub.execute_input": "2023-06-15T11:45:46.023500Z",
     "iopub.status.busy": "2023-06-15T11:45:46.023060Z",
     "iopub.status.idle": "2023-06-15T11:45:46.045395Z",
     "shell.execute_reply": "2023-06-15T11:45:46.044228Z",
     "shell.execute_reply.started": "2023-06-15T11:45:46.023470Z"
    }
   },
   "outputs": [
    {
     "name": "stdout",
     "output_type": "stream",
     "text": [
      "-------------------------------\n",
      "160\n",
      "-------------------------------\n",
      "80\n"
     ]
    }
   ],
   "source": [
    "string = [256,282,283,286,1050,198,192,209]\n",
    "affected_files_text2 = []\n",
    "for f in string:\n",
    "    list1 = []\n",
    "    normal_dir = \"C:/Users/PN/Desktop/Naiyani_BreastCanserProj/dataset_code01/dataset_code/dataset/test/sick/{}/Segmentadas\".format(f)\n",
    "    normal_dir_text = \"C:/Users/PN/Desktop/Naiyani_BreastCanserProj/dataset_code01/dataset_code/dataset/test/sick/{}/Matrizes\".format(f)\n",
    "    dir1 = os.path.join(normal_dir,\"*.png\")\n",
    "    normal_files = glob.glob(dir1)\n",
    "    dir2 = os.path.join(normal_dir_text,\"*.txt\")\n",
    "    normal_files_text = glob.glob(dir2)\n",
    "\n",
    "    try:\n",
    "        for i in range(len(normal_files)):\n",
    "            list1.append(normal_files[i]+\"|\"+normal_files_text[i])\n",
    "    except:\n",
    "        pass\n",
    "            \n",
    "    affected_files_text2.extend(list1)\n",
    "string2 = [64,220,108,50]\n",
    "\n",
    "healthy_files_text2 = []\n",
    "for f in string2:\n",
    "    list2 = []\n",
    "    normal_dir = \"C:/Users/PN/Desktop/Naiyani_BreastCanserProj/dataset_code01/dataset_code/dataset/test/healthy/{}/Segmentadas\".format(f)\n",
    "    normal_dir_text = \"C:/Users/PN/Desktop/Naiyani_BreastCanserProj/dataset_code01/dataset_code/dataset/test/healthy/{}/Matrizes\".format(f)\n",
    "    dir1 = os.path.join(normal_dir,\"*.png\")\n",
    "    normal_files = glob.glob(dir1)\n",
    "    dir2 = os.path.join(normal_dir_text,\"*.txt\")\n",
    "    normal_files_text = glob.glob(dir2)\n",
    "    #print(len(normal_files),f)\n",
    "    try:\n",
    "        for i in range(len(normal_files)):\n",
    "            list2.append(normal_files[i]+\"|\"+normal_files_text[i])\n",
    "    except:\n",
    "        pass\n",
    "            \n",
    "    healthy_files_text2.extend(list2)\n",
    "print(\"-------------------------------\")    \n",
    "print(len(affected_files_text2))\n",
    "print(\"-------------------------------\")  \n",
    "print(len(healthy_files_text2))"
   ]
  },
  {
   "cell_type": "code",
   "execution_count": 7,
   "metadata": {
    "execution": {
     "iopub.execute_input": "2023-06-15T11:45:54.085782Z",
     "iopub.status.busy": "2023-06-15T11:45:54.085323Z",
     "iopub.status.idle": "2023-06-15T11:45:54.092756Z",
     "shell.execute_reply": "2023-06-15T11:45:54.090719Z",
     "shell.execute_reply.started": "2023-06-15T11:45:54.085746Z"
    }
   },
   "outputs": [],
   "source": [
    "affected_files_test = []\n",
    "healthy_files_test = []\n",
    "affected_files_test.extend(affected_files_text2)\n",
    "healthy_files_test.extend(healthy_files_text2)"
   ]
  },
  {
   "cell_type": "code",
   "execution_count": 8,
   "metadata": {
    "execution": {
     "iopub.execute_input": "2023-06-15T11:45:58.129944Z",
     "iopub.status.busy": "2023-06-15T11:45:58.129514Z",
     "iopub.status.idle": "2023-06-15T11:45:58.136368Z",
     "shell.execute_reply": "2023-06-15T11:45:58.134719Z",
     "shell.execute_reply.started": "2023-06-15T11:45:58.129911Z"
    }
   },
   "outputs": [
    {
     "name": "stdout",
     "output_type": "stream",
     "text": [
      "No. of healthy images in train dataset: 302\n",
      "No. of affected images in train dataset: 561\n"
     ]
    }
   ],
   "source": [
    "print(\"No. of healthy images in train dataset:\", len(healthy_files_train))\n",
    "print(\"No. of affected images in train dataset:\", len(affected_files_train))"
   ]
  },
  {
   "cell_type": "code",
   "execution_count": 9,
   "metadata": {
    "execution": {
     "iopub.execute_input": "2023-06-15T11:46:01.161650Z",
     "iopub.status.busy": "2023-06-15T11:46:01.161136Z",
     "iopub.status.idle": "2023-06-15T11:46:01.168263Z",
     "shell.execute_reply": "2023-06-15T11:46:01.166962Z",
     "shell.execute_reply.started": "2023-06-15T11:46:01.161617Z"
    }
   },
   "outputs": [
    {
     "name": "stdout",
     "output_type": "stream",
     "text": [
      "No. of healthy images in test dataset: 80\n",
      "No. of affected images in test dataset: 160\n"
     ]
    }
   ],
   "source": [
    "print(\"No. of healthy images in test dataset:\", len(healthy_files_test))\n",
    "print(\"No. of affected images in test dataset:\", len(affected_files_test))"
   ]
  },
  {
   "cell_type": "code",
   "execution_count": 10,
   "metadata": {
    "execution": {
     "iopub.execute_input": "2023-06-15T11:46:37.933617Z",
     "iopub.status.busy": "2023-06-15T11:46:37.933140Z",
     "iopub.status.idle": "2023-06-15T11:46:37.941179Z",
     "shell.execute_reply": "2023-06-15T11:46:37.939547Z",
     "shell.execute_reply.started": "2023-06-15T11:46:37.933587Z"
    }
   },
   "outputs": [],
   "source": [
    "train_dic = {}\n",
    "for f in affected_files_train:\n",
    "  train_dic[f] = [1,0]\n",
    "for f in healthy_files_train:\n",
    "  train_dic[f] = [0,1]\n",
    "\n",
    "\n",
    "test_dic = {}\n",
    "for f in affected_files_test:\n",
    "  test_dic[f] = [1,0]\n",
    "for f in healthy_files_test:\n",
    "  test_dic[f] = [0,1]"
   ]
  },
  {
   "cell_type": "code",
   "execution_count": 11,
   "metadata": {
    "execution": {
     "iopub.execute_input": "2023-06-15T11:46:41.305571Z",
     "iopub.status.busy": "2023-06-15T11:46:41.304531Z",
     "iopub.status.idle": "2023-06-15T11:46:41.313189Z",
     "shell.execute_reply": "2023-06-15T11:46:41.311737Z",
     "shell.execute_reply.started": "2023-06-15T11:46:41.305512Z"
    }
   },
   "outputs": [],
   "source": [
    "import random\n",
    "l_train = list(train_dic.items())\n",
    "random.shuffle(l_train)\n",
    "\n",
    "\n",
    "import random\n",
    "l_test = list(test_dic.items())\n",
    "random.shuffle(l_test)"
   ]
  },
  {
   "cell_type": "code",
   "execution_count": 12,
   "metadata": {
    "execution": {
     "iopub.execute_input": "2023-06-05T22:05:46.472471Z",
     "iopub.status.busy": "2023-06-05T22:05:46.472075Z",
     "iopub.status.idle": "2023-06-05T22:08:23.795283Z",
     "shell.execute_reply": "2023-06-05T22:08:23.794006Z",
     "shell.execute_reply.started": "2023-06-05T22:05:46.472442Z"
    }
   },
   "outputs": [
    {
     "name": "stdout",
     "output_type": "stream",
     "text": [
      "(863, 224, 224, 3)\n",
      "(863, 224, 224, 3)\n",
      "(863, 2)\n",
      "^_^-training data finished-^_^\n"
     ]
    }
   ],
   "source": [
    "data = []\n",
    "normal_data = []\n",
    "labels = []\n",
    "for i in range(len(l_train)):\n",
    "    file_name,label = l_train[i]\n",
    "    a,b = file_name.split(\"|\")\n",
    "    img = cv2.imread(a)\n",
    "    arr_1 = np.empty((480,640))\n",
    "\n",
    "    try:\n",
    "        with open(b,\"r\") as f:\n",
    "            arr = f.readlines()\n",
    "            for i in range(len(arr)):\n",
    "                arr[i] = arr[i].replace(\",\", \".\")\n",
    "                arr_2 = []\n",
    "                for j in arr[i].split():\n",
    "                    arr_2.append(float(j))\n",
    "                arr_1[i] = np.asarray(arr_2) \n",
    "        img = np.asarray(img)\n",
    "        arr_1 = np.asarray(arr_1)\n",
    "        edge_gaussian = Feature.gaussian(arr_1, sigma = 1)#Gaussian Filter\n",
    "        edge_canny = feature.canny(arr_1, sigma=1)\n",
    "        edge_canny = np.asarray(edge_canny)\n",
    "        img = cv2.resize(img,(224,224),interpolation = cv2.INTER_CUBIC)\n",
    "        arr_img = cv2.resize(arr_1,(224,224),interpolation = cv2.INTER_CUBIC)\n",
    "        r_img = cv2.resize(edge_gaussian,(224,224),interpolation = cv2.INTER_CUBIC)\n",
    "        s_img = resize(edge_canny, (224,224),anti_aliasing=False)\n",
    "        arr_3 = np.expand_dims(arr_img,axis = -1)\n",
    "        arr_2 = np.expand_dims(r_img,axis = -1)\n",
    "        arr_1 = np.expand_dims(s_img,axis = -1)\n",
    "        img2 = np.concatenate((arr_3,arr_2,arr_1),axis = -1)\n",
    "        height, width = img.shape[:2]\n",
    "        img2 = img2.astype('float32')/255.0\n",
    "        img = img.astype('float32')/255.0\n",
    "        data.append(img2)\n",
    "        normal_data.append(img)\n",
    "        labels.append(label)\n",
    "\n",
    "    except Exception as e:\n",
    "        print(\"An exception occurred:\", e)\n",
    "      \n",
    "train_data = np.array(data)\n",
    "print(train_data.shape)\n",
    "normal_data = np.array(normal_data)\n",
    "print(normal_data.shape)\n",
    "\n",
    "train_labels = np.array(labels)\n",
    "print(train_labels.shape)    \n",
    "\n",
    "print('^_^-training data finished-^_^')"
   ]
  },
  {
   "cell_type": "code",
   "execution_count": 13,
   "metadata": {
    "execution": {
     "iopub.execute_input": "2023-06-05T22:09:39.504823Z",
     "iopub.status.busy": "2023-06-05T22:09:39.504377Z",
     "iopub.status.idle": "2023-06-05T22:09:43.251265Z",
     "shell.execute_reply": "2023-06-05T22:09:43.250014Z",
     "shell.execute_reply.started": "2023-06-05T22:09:39.504794Z"
    }
   },
   "outputs": [
    {
     "name": "stdout",
     "output_type": "stream",
     "text": [
      "(240, 224, 224, 3)\n",
      "(240, 224, 224, 3)\n",
      "(240, 2)\n",
      "^_^ - Testing data finished - ^_^\n"
     ]
    }
   ],
   "source": [
    "test_text = []\n",
    "data = []\n",
    "labels = []\n",
    "\n",
    "for i in range(len(l_test)):\n",
    "    file_name, label = l_test[i]\n",
    "    a, b = file_name.split(\"|\")\n",
    "    img = cv2.imread(a)\n",
    "    arr_1 = np.empty((480, 640))\n",
    "\n",
    "    try:\n",
    "        with open(b, \"r\") as f:\n",
    "            arr = f.readlines()\n",
    "            for i in range(len(arr)):\n",
    "                arr_2 = []\n",
    "                for j in arr[i].split():\n",
    "                    arr_2.append(float(j))\n",
    "                arr_1[i] = np.asarray(arr_2)\n",
    "\n",
    "        img = np.asarray(img)\n",
    "        arr_1 = np.asarray(arr_1)\n",
    "\n",
    "        edge_gaussian = Feature.gaussian(arr_1, sigma = 1)  # Gaussian gradient edge detection\n",
    "        edge_canny = feature.canny(arr_1, sigma=1)\n",
    "        edge_canny = np.asarray(edge_canny)\n",
    "\n",
    "        img = cv2.resize(img, (224, 224), interpolation=cv2.INTER_AREA)\n",
    "        arr_img = cv2.resize(arr_1, (224, 224), interpolation=cv2.INTER_CUBIC)\n",
    "        s_img = cv2.resize(edge_gaussian, (224, 224), interpolation=cv2.INTER_CUBIC)\n",
    "        # r_img = cv2.resize(edge_canny,(224,224),interpolation = cv2.INTER_CUBIC)\n",
    "        r_img = resize(edge_canny, (224, 224), anti_aliasing=False)\n",
    "\n",
    "        arr_3 = np.expand_dims(arr_img, axis=-1)\n",
    "        arr_2 = np.expand_dims(r_img, axis=-1)\n",
    "        arr_1 = np.expand_dims(s_img, axis=-1)\n",
    "\n",
    "        img2 = np.concatenate((arr_3, arr_2, arr_1), axis=-1)\n",
    "        height, width = img.shape[:2]\n",
    "\n",
    "        img2 = img2.astype('float32') / 255.0\n",
    "        img = img.astype('float32') / 255.0\n",
    "\n",
    "        test_text.append(img2)\n",
    "        data.append(img)\n",
    "        labels.append(label)\n",
    "\n",
    "    except Exception as e:\n",
    "        print(\"An exception occurred:\", e)\n",
    "\n",
    "test_data = np.array(data)\n",
    "print(test_data.shape)\n",
    "\n",
    "test_text = np.array(test_text)\n",
    "print(test_text.shape)\n",
    "\n",
    "test_labels = np.array(labels)\n",
    "print(test_labels.shape)\n",
    "\n",
    "print('^_^ - Testing data finished - ^_^')\n"
   ]
  },
  {
   "cell_type": "code",
   "execution_count": 14,
   "metadata": {},
   "outputs": [],
   "source": [
    "#data augmentation\n",
    "import numpy as np\n",
    "import cv2\n",
    "from skimage import feature\n",
    "from scipy.ndimage import gaussian_filter\n",
    "from skimage.transform import resize\n",
    "from tensorflow.keras.preprocessing.image import ImageDataGenerator\n",
    "data =[]\n",
    "labels = []\n",
    "# Define the data augmentation parameters\n",
    "datagen = ImageDataGenerator(\n",
    "    rotation_range=20,  # Random rotation between -20 and +20 degrees\n",
    "    width_shift_range=0.2,  # Randomly shift the width by a fraction of the total width\n",
    "    height_shift_range=0.2,  # Randomly shift the height by a fraction of the total height\n",
    "    shear_range=0.2,  # Apply shear transformation with maximum shear angle of 20 degrees\n",
    "    zoom_range=0.2,  # Apply zoom transformation with maximum zoom of 20%\n",
    "    horizontal_flip=True,  # Randomly flip images horizontally\n",
    "    vertical_flip=True  # Randomly flip images vertically\n",
    ")\n",
    "\n",
    "# Initialize lists to store augmented data and labels\n",
    "augmented_data = []\n",
    "augmented_labels = []\n",
    "\n",
    "# Perform data augmentation on each sample in the dataset\n",
    "for i in range(len(data)):\n",
    "    img = data[i]\n",
    "    label = labels[i]\n",
    "\n",
    "    # Apply data augmentation to the original image\n",
    "    augmented_img = datagen.random_transform(img)\n",
    "    \n",
    "    # Perform edge detection on the augmented image\n",
    "    augmented_edge = feature.canny(augmented_img, sigma=1)\n",
    "    \n",
    "    # Resize the augmented image and edge to the desired size\n",
    "    augmented_img = resize(augmented_img, (224, 224), anti_aliasing=False)\n",
    "    augmented_edge = resize(augmented_edge, (224, 224), anti_aliasing=False)\n",
    "\n",
    "    # Add the augmented image and label to the respective lists\n",
    "    augmented_data.append(augmented_img)\n",
    "    augmented_labels.append(label)\n",
    "\n",
    "    # Add the augmented edge to the original data list\n",
    "    data.append(augmented_edge)\n",
    "    labels.append(label)\n",
    "\n",
    "# Convert the data and labels to NumPy arrays\n",
    "data = np.array(data)\n",
    "labels = np.array(labels)"
   ]
  },
  {
   "cell_type": "code",
   "execution_count": 15,
   "metadata": {},
   "outputs": [
    {
     "name": "stdout",
     "output_type": "stream",
     "text": [
      "Requirement already satisfied: vit-b16-keras in c:\\users\\pn\\appdata\\local\\programs\\python\\python311\\lib\\site-packages (0.5)\n",
      "Requirement already satisfied: tensorflow in c:\\users\\pn\\appdata\\local\\programs\\python\\python311\\lib\\site-packages (from vit-b16-keras) (2.15.0)\n",
      "Requirement already satisfied: tensorflow-intel==2.15.0 in c:\\users\\pn\\appdata\\local\\programs\\python\\python311\\lib\\site-packages (from tensorflow->vit-b16-keras) (2.15.0)\n",
      "Requirement already satisfied: absl-py>=1.0.0 in c:\\users\\pn\\appdata\\local\\programs\\python\\python311\\lib\\site-packages (from tensorflow-intel==2.15.0->tensorflow->vit-b16-keras) (2.1.0)\n",
      "Requirement already satisfied: astunparse>=1.6.0 in c:\\users\\pn\\appdata\\local\\programs\\python\\python311\\lib\\site-packages (from tensorflow-intel==2.15.0->tensorflow->vit-b16-keras) (1.6.3)\n",
      "Requirement already satisfied: flatbuffers>=23.5.26 in c:\\users\\pn\\appdata\\local\\programs\\python\\python311\\lib\\site-packages (from tensorflow-intel==2.15.0->tensorflow->vit-b16-keras) (23.5.26)\n",
      "Requirement already satisfied: gast!=0.5.0,!=0.5.1,!=0.5.2,>=0.2.1 in c:\\users\\pn\\appdata\\local\\programs\\python\\python311\\lib\\site-packages (from tensorflow-intel==2.15.0->tensorflow->vit-b16-keras) (0.5.4)\n",
      "Requirement already satisfied: google-pasta>=0.1.1 in c:\\users\\pn\\appdata\\local\\programs\\python\\python311\\lib\\site-packages (from tensorflow-intel==2.15.0->tensorflow->vit-b16-keras) (0.2.0)\n",
      "Requirement already satisfied: h5py>=2.9.0 in c:\\users\\pn\\appdata\\local\\programs\\python\\python311\\lib\\site-packages (from tensorflow-intel==2.15.0->tensorflow->vit-b16-keras) (3.10.0)\n",
      "Requirement already satisfied: libclang>=13.0.0 in c:\\users\\pn\\appdata\\local\\programs\\python\\python311\\lib\\site-packages (from tensorflow-intel==2.15.0->tensorflow->vit-b16-keras) (16.0.6)\n",
      "Requirement already satisfied: ml-dtypes~=0.2.0 in c:\\users\\pn\\appdata\\local\\programs\\python\\python311\\lib\\site-packages (from tensorflow-intel==2.15.0->tensorflow->vit-b16-keras) (0.2.0)\n",
      "Requirement already satisfied: numpy<2.0.0,>=1.23.5 in c:\\users\\pn\\appdata\\local\\programs\\python\\python311\\lib\\site-packages (from tensorflow-intel==2.15.0->tensorflow->vit-b16-keras) (1.26.3)\n",
      "Requirement already satisfied: opt-einsum>=2.3.2 in c:\\users\\pn\\appdata\\local\\programs\\python\\python311\\lib\\site-packages (from tensorflow-intel==2.15.0->tensorflow->vit-b16-keras) (3.3.0)\n",
      "Requirement already satisfied: packaging in c:\\users\\pn\\appdata\\local\\programs\\python\\python311\\lib\\site-packages (from tensorflow-intel==2.15.0->tensorflow->vit-b16-keras) (23.1)\n",
      "Requirement already satisfied: protobuf!=4.21.0,!=4.21.1,!=4.21.2,!=4.21.3,!=4.21.4,!=4.21.5,<5.0.0dev,>=3.20.3 in c:\\users\\pn\\appdata\\local\\programs\\python\\python311\\lib\\site-packages (from tensorflow-intel==2.15.0->tensorflow->vit-b16-keras) (4.23.4)\n",
      "Requirement already satisfied: setuptools in c:\\users\\pn\\appdata\\local\\programs\\python\\python311\\lib\\site-packages (from tensorflow-intel==2.15.0->tensorflow->vit-b16-keras) (65.5.0)\n",
      "Requirement already satisfied: six>=1.12.0 in c:\\users\\pn\\appdata\\local\\programs\\python\\python311\\lib\\site-packages (from tensorflow-intel==2.15.0->tensorflow->vit-b16-keras) (1.16.0)\n",
      "Requirement already satisfied: termcolor>=1.1.0 in c:\\users\\pn\\appdata\\local\\programs\\python\\python311\\lib\\site-packages (from tensorflow-intel==2.15.0->tensorflow->vit-b16-keras) (2.4.0)\n",
      "Requirement already satisfied: typing-extensions>=3.6.6 in c:\\users\\pn\\appdata\\local\\programs\\python\\python311\\lib\\site-packages (from tensorflow-intel==2.15.0->tensorflow->vit-b16-keras) (4.9.0)\n",
      "Requirement already satisfied: wrapt<1.15,>=1.11.0 in c:\\users\\pn\\appdata\\local\\programs\\python\\python311\\lib\\site-packages (from tensorflow-intel==2.15.0->tensorflow->vit-b16-keras) (1.14.1)\n",
      "Requirement already satisfied: tensorflow-io-gcs-filesystem>=0.23.1 in c:\\users\\pn\\appdata\\local\\programs\\python\\python311\\lib\\site-packages (from tensorflow-intel==2.15.0->tensorflow->vit-b16-keras) (0.31.0)\n",
      "Requirement already satisfied: grpcio<2.0,>=1.24.3 in c:\\users\\pn\\appdata\\local\\programs\\python\\python311\\lib\\site-packages (from tensorflow-intel==2.15.0->tensorflow->vit-b16-keras) (1.60.0)\n",
      "Requirement already satisfied: tensorboard<2.16,>=2.15 in c:\\users\\pn\\appdata\\local\\programs\\python\\python311\\lib\\site-packages (from tensorflow-intel==2.15.0->tensorflow->vit-b16-keras) (2.15.1)\n",
      "Requirement already satisfied: tensorflow-estimator<2.16,>=2.15.0 in c:\\users\\pn\\appdata\\local\\programs\\python\\python311\\lib\\site-packages (from tensorflow-intel==2.15.0->tensorflow->vit-b16-keras) (2.15.0)\n",
      "Requirement already satisfied: keras<2.16,>=2.15.0 in c:\\users\\pn\\appdata\\local\\programs\\python\\python311\\lib\\site-packages (from tensorflow-intel==2.15.0->tensorflow->vit-b16-keras) (2.15.0)\n",
      "Requirement already satisfied: wheel<1.0,>=0.23.0 in c:\\users\\pn\\appdata\\local\\programs\\python\\python311\\lib\\site-packages (from astunparse>=1.6.0->tensorflow-intel==2.15.0->tensorflow->vit-b16-keras) (0.42.0)\n",
      "Requirement already satisfied: google-auth<3,>=1.6.3 in c:\\users\\pn\\appdata\\local\\programs\\python\\python311\\lib\\site-packages (from tensorboard<2.16,>=2.15->tensorflow-intel==2.15.0->tensorflow->vit-b16-keras) (2.26.2)\n",
      "Requirement already satisfied: google-auth-oauthlib<2,>=0.5 in c:\\users\\pn\\appdata\\local\\programs\\python\\python311\\lib\\site-packages (from tensorboard<2.16,>=2.15->tensorflow-intel==2.15.0->tensorflow->vit-b16-keras) (1.2.0)\n",
      "Requirement already satisfied: markdown>=2.6.8 in c:\\users\\pn\\appdata\\local\\programs\\python\\python311\\lib\\site-packages (from tensorboard<2.16,>=2.15->tensorflow-intel==2.15.0->tensorflow->vit-b16-keras) (3.5.2)\n",
      "Requirement already satisfied: requests<3,>=2.21.0 in c:\\users\\pn\\appdata\\local\\programs\\python\\python311\\lib\\site-packages (from tensorboard<2.16,>=2.15->tensorflow-intel==2.15.0->tensorflow->vit-b16-keras) (2.31.0)\n",
      "Requirement already satisfied: tensorboard-data-server<0.8.0,>=0.7.0 in c:\\users\\pn\\appdata\\local\\programs\\python\\python311\\lib\\site-packages (from tensorboard<2.16,>=2.15->tensorflow-intel==2.15.0->tensorflow->vit-b16-keras) (0.7.2)\n",
      "Requirement already satisfied: werkzeug>=1.0.1 in c:\\users\\pn\\appdata\\local\\programs\\python\\python311\\lib\\site-packages (from tensorboard<2.16,>=2.15->tensorflow-intel==2.15.0->tensorflow->vit-b16-keras) (3.0.1)\n",
      "Requirement already satisfied: cachetools<6.0,>=2.0.0 in c:\\users\\pn\\appdata\\local\\programs\\python\\python311\\lib\\site-packages (from google-auth<3,>=1.6.3->tensorboard<2.16,>=2.15->tensorflow-intel==2.15.0->tensorflow->vit-b16-keras) (5.3.2)\n",
      "Requirement already satisfied: pyasn1-modules>=0.2.1 in c:\\users\\pn\\appdata\\local\\programs\\python\\python311\\lib\\site-packages (from google-auth<3,>=1.6.3->tensorboard<2.16,>=2.15->tensorflow-intel==2.15.0->tensorflow->vit-b16-keras) (0.3.0)\n",
      "Requirement already satisfied: rsa<5,>=3.1.4 in c:\\users\\pn\\appdata\\local\\programs\\python\\python311\\lib\\site-packages (from google-auth<3,>=1.6.3->tensorboard<2.16,>=2.15->tensorflow-intel==2.15.0->tensorflow->vit-b16-keras) (4.9)\n",
      "Requirement already satisfied: requests-oauthlib>=0.7.0 in c:\\users\\pn\\appdata\\local\\programs\\python\\python311\\lib\\site-packages (from google-auth-oauthlib<2,>=0.5->tensorboard<2.16,>=2.15->tensorflow-intel==2.15.0->tensorflow->vit-b16-keras) (1.3.1)\n",
      "Requirement already satisfied: charset-normalizer<4,>=2 in c:\\users\\pn\\appdata\\local\\programs\\python\\python311\\lib\\site-packages (from requests<3,>=2.21.0->tensorboard<2.16,>=2.15->tensorflow-intel==2.15.0->tensorflow->vit-b16-keras) (3.3.2)\n",
      "Requirement already satisfied: idna<4,>=2.5 in c:\\users\\pn\\appdata\\local\\programs\\python\\python311\\lib\\site-packages (from requests<3,>=2.21.0->tensorboard<2.16,>=2.15->tensorflow-intel==2.15.0->tensorflow->vit-b16-keras) (3.4)\n",
      "Requirement already satisfied: urllib3<3,>=1.21.1 in c:\\users\\pn\\appdata\\local\\programs\\python\\python311\\lib\\site-packages (from requests<3,>=2.21.0->tensorboard<2.16,>=2.15->tensorflow-intel==2.15.0->tensorflow->vit-b16-keras) (2.1.0)\n",
      "Requirement already satisfied: certifi>=2017.4.17 in c:\\users\\pn\\appdata\\local\\programs\\python\\python311\\lib\\site-packages (from requests<3,>=2.21.0->tensorboard<2.16,>=2.15->tensorflow-intel==2.15.0->tensorflow->vit-b16-keras) (2023.11.17)\n",
      "Requirement already satisfied: MarkupSafe>=2.1.1 in c:\\users\\pn\\appdata\\local\\programs\\python\\python311\\lib\\site-packages (from werkzeug>=1.0.1->tensorboard<2.16,>=2.15->tensorflow-intel==2.15.0->tensorflow->vit-b16-keras) (2.1.3)\n",
      "Requirement already satisfied: pyasn1<0.6.0,>=0.4.6 in c:\\users\\pn\\appdata\\local\\programs\\python\\python311\\lib\\site-packages (from pyasn1-modules>=0.2.1->google-auth<3,>=1.6.3->tensorboard<2.16,>=2.15->tensorflow-intel==2.15.0->tensorflow->vit-b16-keras) (0.5.1)\n",
      "Requirement already satisfied: oauthlib>=3.0.0 in c:\\users\\pn\\appdata\\local\\programs\\python\\python311\\lib\\site-packages (from requests-oauthlib>=0.7.0->google-auth-oauthlib<2,>=0.5->tensorboard<2.16,>=2.15->tensorflow-intel==2.15.0->tensorflow->vit-b16-keras) (3.2.2)\n"
     ]
    },
    {
     "name": "stderr",
     "output_type": "stream",
     "text": [
      "\n",
      "[notice] A new release of pip available: 22.3.1 -> 23.3.2\n",
      "[notice] To update, run: python.exe -m pip install --upgrade pip\n"
     ]
    }
   ],
   "source": [
    "!pip install vit-b16-keras"
   ]
  },
  {
   "cell_type": "code",
   "execution_count": 16,
   "metadata": {
    "execution": {
     "iopub.execute_input": "2023-06-15T12:06:33.394597Z",
     "iopub.status.busy": "2023-06-15T12:06:33.394120Z",
     "iopub.status.idle": "2023-06-15T12:06:43.993196Z",
     "shell.execute_reply": "2023-06-15T12:06:43.992229Z",
     "shell.execute_reply.started": "2023-06-15T12:06:33.394567Z"
    }
   },
   "outputs": [
    {
     "name": "stdout",
     "output_type": "stream",
     "text": [
      "WARNING:tensorflow:From c:\\Users\\PN\\AppData\\Local\\Programs\\Python\\Python311\\Lib\\site-packages\\keras\\src\\backend.py:1398: The name tf.executing_eagerly_outside_functions is deprecated. Please use tf.compat.v1.executing_eagerly_outside_functions instead.\n",
      "\n",
      "WARNING:tensorflow:From c:\\Users\\PN\\AppData\\Local\\Programs\\Python\\Python311\\Lib\\site-packages\\keras\\src\\layers\\normalization\\batch_normalization.py:979: The name tf.nn.fused_batch_norm is deprecated. Please use tf.compat.v1.nn.fused_batch_norm instead.\n",
      "\n"
     ]
    }
   ],
   "source": [
    "import tensorflow as tf\n",
    "from tensorflow.keras.layers import Dense,Flatten\n",
    "from tensorflow.keras.models import Model, load_model\n",
    "from vit_b16_keras import vit_b16\n",
    "\n",
    "in_model = vit_b16.VisionTransformer(input_shape = (224,224,3),weight = r\"C:\\Users\\PN/Desktop/Naiyani_BreastCanserProj/dataset_code01/dataset_code\\weight.h5\",patch_size = 16,num_classes = 2,hidden_dim = 768,num_heads = 12,mlp_dim = 3072,channels = 3,dropout_rate=0.1)\n",
    "in_model.trainable = False\n",
    "\n",
    "inputs = tf.keras.Input(shape=(224,224,3))\n",
    "\n",
    "x = in_model(inputs)\n",
    "flat = Flatten()(x)\n",
    "\n",
    "dense_1 = Dense(4096,activation = 'relu')(flat)\n",
    "\n",
    "dense_2 = Dense(4096,activation = 'relu')(dense_1)\n",
    "\n",
    "prediction = Dense(2,activation = 'softmax')(dense_2)\n",
    "\n",
    "in_pred = Model(inputs = inputs,outputs = prediction)"
   ]
  },
  {
   "cell_type": "code",
   "execution_count": 17,
   "metadata": {},
   "outputs": [],
   "source": [
    "import tensorflow.compat.v1"
   ]
  },
  {
   "cell_type": "code",
   "execution_count": 18,
   "metadata": {
    "execution": {
     "iopub.execute_input": "2023-06-15T12:06:48.647269Z",
     "iopub.status.busy": "2023-06-15T12:06:48.646759Z",
     "iopub.status.idle": "2023-06-15T14:11:20.343279Z",
     "shell.execute_reply": "2023-06-15T14:11:20.342031Z",
     "shell.execute_reply.started": "2023-06-15T12:06:48.647232Z"
    }
   },
   "outputs": [
    {
     "name": "stdout",
     "output_type": "stream",
     "text": [
      "Epoch 1/20\n",
      "WARNING:tensorflow:From c:\\Users\\PN\\AppData\\Local\\Programs\\Python\\Python311\\Lib\\site-packages\\keras\\src\\utils\\tf_utils.py:492: The name tf.ragged.RaggedTensorValue is deprecated. Please use tf.compat.v1.ragged.RaggedTensorValue instead.\n",
      "\n",
      "WARNING:tensorflow:From c:\\Users\\PN\\AppData\\Local\\Programs\\Python\\Python311\\Lib\\site-packages\\keras\\src\\engine\\base_layer_utils.py:384: The name tf.executing_eagerly_outside_functions is deprecated. Please use tf.compat.v1.executing_eagerly_outside_functions instead.\n",
      "\n",
      "27/27 [==============================] - 84s 2s/step - loss: 0.6058 - accuracy: 0.6535\n",
      "Epoch 2/20\n",
      "27/27 [==============================] - 62s 2s/step - loss: 0.5375 - accuracy: 0.7451\n",
      "Epoch 3/20\n",
      "27/27 [==============================] - 64s 2s/step - loss: 0.5023 - accuracy: 0.7833\n",
      "Epoch 4/20\n",
      "27/27 [==============================] - 77s 3s/step - loss: 0.4880 - accuracy: 0.8169\n",
      "Epoch 5/20\n",
      "27/27 [==============================] - 87s 3s/step - loss: 0.4486 - accuracy: 0.8331\n",
      "Epoch 6/20\n",
      "27/27 [==============================] - 63s 2s/step - loss: 0.4377 - accuracy: 0.8239\n",
      "Epoch 7/20\n",
      "27/27 [==============================] - 64s 2s/step - loss: 0.4135 - accuracy: 0.8528\n",
      "Epoch 8/20\n",
      "27/27 [==============================] - 61s 2s/step - loss: 0.3925 - accuracy: 0.8760\n",
      "Epoch 9/20\n",
      "27/27 [==============================] - 63s 2s/step - loss: 0.3777 - accuracy: 0.8818\n",
      "Epoch 10/20\n",
      "27/27 [==============================] - 67s 2s/step - loss: 0.3668 - accuracy: 0.8922\n",
      "Epoch 11/20\n",
      "27/27 [==============================] - 61s 2s/step - loss: 0.3514 - accuracy: 0.9015\n",
      "Epoch 12/20\n",
      "27/27 [==============================] - 59s 2s/step - loss: 0.3448 - accuracy: 0.8992\n",
      "Epoch 13/20\n",
      "27/27 [==============================] - 62s 2s/step - loss: 0.3220 - accuracy: 0.9293\n",
      "Epoch 14/20\n",
      "27/27 [==============================] - 62s 2s/step - loss: 0.3094 - accuracy: 0.9282\n",
      "Epoch 15/20\n",
      "27/27 [==============================] - 62s 2s/step - loss: 0.2985 - accuracy: 0.9328\n",
      "Epoch 16/20\n",
      "27/27 [==============================] - 60s 2s/step - loss: 0.2926 - accuracy: 0.9374\n",
      "Epoch 17/20\n",
      "27/27 [==============================] - 61s 2s/step - loss: 0.2826 - accuracy: 0.9340\n",
      "Epoch 18/20\n",
      "27/27 [==============================] - 60s 2s/step - loss: 0.2684 - accuracy: 0.9432\n",
      "Epoch 19/20\n",
      "27/27 [==============================] - 61s 2s/step - loss: 0.2669 - accuracy: 0.9490\n",
      "Epoch 20/20\n",
      "27/27 [==============================] - 65s 2s/step - loss: 0.2532 - accuracy: 0.9548\n"
     ]
    }
   ],
   "source": [
    "in_pred.compile(optimizer = tf.keras.optimizers.Adagrad(learning_rate=0.0002), loss=tf.keras.losses.CategoricalCrossentropy(from_logits = False) , metrics=['accuracy'])\n",
    "history = in_pred.fit(train_data,train_labels,batch_size = 32,epochs = 20)"
   ]
  },
  {
   "cell_type": "code",
   "execution_count": 19,
   "metadata": {
    "execution": {
     "iopub.execute_input": "2023-06-15T15:38:57.829532Z",
     "iopub.status.busy": "2023-06-15T15:38:57.828810Z",
     "iopub.status.idle": "2023-06-15T15:38:58.361259Z",
     "shell.execute_reply": "2023-06-15T15:38:58.359742Z",
     "shell.execute_reply.started": "2023-06-15T15:38:57.829482Z"
    }
   },
   "outputs": [
    {
     "data": {
      "image/png": "[encoded data removed]",
      "text/plain": [
       "<Figure size 640x480 with 1 Axes>"
      ]
     },
     "metadata": {},
     "output_type": "display_data"
    },
    {
     "data": {
      "image/png": "[encoded data removed]",
      "text/plain": [
       "<Figure size 640x480 with 1 Axes>"
      ]
     },
     "metadata": {},
     "output_type": "display_data"
    },
    {
     "name": "stdout",
     "output_type": "stream",
     "text": [
      "8/8 [==============================] - 13s 1s/step - loss: 1.1166 - accuracy: 0.4042\n"
     ]
    },
    {
     "data": {
      "text/plain": [
       "[1.1165587902069092, 0.40416666865348816]"
      ]
     },
     "execution_count": 19,
     "metadata": {},
     "output_type": "execute_result"
    }
   ],
   "source": [
    "# Plot training accuracy\n",
    "plt.plot(history.history['accuracy'])\n",
    "plt.title('Training Accuracy')\n",
    "plt.xlabel('Epochs')\n",
    "plt.ylabel('Accuracy')\n",
    "plt.show()\n",
    "\n",
    "# Plot training loss\n",
    "plt.plot(history.history['loss'])\n",
    "plt.title('Training Loss')\n",
    "plt.xlabel('Epochs')\n",
    "plt.ylabel('Loss')\n",
    "\n",
    "plt.show()\n",
    "in_pred.evaluate(test_data,test_labels)\n"
   ]
  },
  {
   "cell_type": "code",
   "execution_count": 20,
   "metadata": {},
   "outputs": [
    {
     "name": "stdout",
     "output_type": "stream",
     "text": [
      "8/8 [==============================] - 12s 1s/step\n"
     ]
    }
   ],
   "source": [
    "test_ = in_pred.predict(test_text)\n",
    "Y_pred= np.argmax(test_labels, axis=1)\n",
    "true_label= np.argmax(test_, axis=1)"
   ]
  },
  {
   "cell_type": "code",
   "execution_count": 21,
   "metadata": {},
   "outputs": [
    {
     "data": {
      "image/png": "[encoded data removed]",
      "text/plain": [
       "<Figure size 640x480 with 2 Axes>"
      ]
     },
     "metadata": {},
     "output_type": "display_data"
    },
    {
     "name": "stdout",
     "output_type": "stream",
     "text": [
      "              precision    recall  f1-score   support\n",
      "\n",
      "           0       0.99      1.00      0.99       160\n",
      "           1       1.00      0.97      0.99        80\n",
      "\n",
      "    accuracy                           0.99       240\n",
      "   macro avg       0.99      0.99      0.99       240\n",
      "weighted avg       0.99      0.99      0.99       240\n",
      "\n",
      "0.9916666666666667\n"
     ]
    }
   ],
   "source": [
    "from sklearn.metrics import classification_report, confusion_matrix,accuracy_score\n",
    "import numpy as np\n",
    "import matplotlib.pyplot as plt\n",
    "cm = confusion_matrix(Y_pred,true_label)\n",
    "# Define the class labels\n",
    "class_labels = ['Class 0', 'Class 1']\n",
    "\n",
    "confusion_matrix_values = np.array(cm)\n",
    "# Plot the confusion matrix\n",
    "plt.imshow(confusion_matrix_values, cmap='Blues')\n",
    "plt.title('Confusion Matrix')\n",
    "plt.xlabel('Predicted Label')\n",
    "plt.ylabel('True Label')\n",
    "plt.colorbar()\n",
    "\n",
    "# Add labels to the plot\n",
    "ticks = np.arange(len(class_labels))\n",
    "plt.xticks(ticks, class_labels)\n",
    "plt.yticks(ticks, class_labels)\n",
    "\n",
    "# Add values inside the matrix\n",
    "thresh = confusion_matrix_values.max() / 2.\n",
    "for i in range(confusion_matrix_values.shape[0]):\n",
    "    for j in range(confusion_matrix_values.shape[1]):\n",
    "        plt.text(j, i, format(confusion_matrix_values[i, j], 'd'),\n",
    "                 horizontalalignment=\"center\",\n",
    "                 color=\"white\" if confusion_matrix_values[i, j] > thresh else \"black\")\n",
    "\n",
    "# Display the plot\n",
    "plt.show()\n",
    "print(classification_report(Y_pred,true_label))\n",
    "print(accuracy_score(Y_pred,true_label))"
   ]
  },
  {
   "cell_type": "code",
   "execution_count": null,
   "metadata": {},
   "outputs": [],
   "source": []
  }
 ],
 "metadata": {
  "kernelspec": {
   "display_name": "Python 3 (ipykernel)",
   "language": "python",
   "name": "python3"
  },
  "language_info": {
   "codemirror_mode": {
    "name": "ipython",
    "version": 3
   },
   "file_extension": ".py",
   "mimetype": "text/x-python",
   "name": "python",
   "nbconvert_exporter": "python",
   "pygments_lexer": "ipython3",
   "version": "3.11.3"
  }
 },
 "nbformat": 4,
 "nbformat_minor": 4
}
